{
 "cells": [
  {
   "cell_type": "markdown",
   "id": "3819e82d-9e60-472e-9b8e-286246bc8bd1",
   "metadata": {},
   "source": [
    "## Lab 6: Quasi-Geostrophic Cyclone Development\n",
    "In this week's lab, we will use archived GFS model and surface observation data to create surface, 500 hPa and 300 hPa analyses, from which we will use the Pettersen-Sutcliffe Development equation and the QG height tendency equation to investigate a midlatitude cyclone's lifecycle. \n",
    "<br />\n",
    "\n",
    "<br />\n",
    "\n",
    "### Useful Documentation\n",
    "1. Xarray open_dataset:  https://docs.xarray.dev/en/stable/generated/xarray.open_dataset.html\n",
    "2. Matplotlib Contour: https://matplotlib.org/stable/api/_as_gen/matplotlib.pyplot.contour.html\n",
    "3. Matplotlib Quiver: https://matplotlib.org/stable/api/_as_gen/matplotlib.pyplot.quiver.html\n",
    "4. Cartopy Feature: https://scitools.org.uk/cartopy/docs/latest/matplotlib/feature_interface.html\n",
    "5. MetPy Units: https://unidata.github.io/MetPy/latest/tutorials/unit_tutorial.html\n",
    "6. Datetime: https://docs.python.org/3/library/datetime.html\n",
    "7. Scipy Gaussian Filter: https://docs.scipy.org/doc/scipy/reference/generated/scipy.ndimage.gaussian_filter.html\n",
    "8. Scipy Griddata function: https://docs.scipy.org/doc/scipy/reference/generated/scipy.interpolate.griddata.html\n",
    "9. Metpy Station Plot: https://unidata.github.io/MetPy/latest/examples/plots/Station_Plot.html\n",
    "\n"
   ]
  },
  {
   "cell_type": "markdown",
   "id": "35ebe97c-8972-440c-817a-923262c269fa",
   "metadata": {},
   "source": [
    "<br />\n",
    "\n",
    "### Part I Instructions\n",
    "So that you can complete this week's lab, I have locally archived the March 16th, 2023 1200 UTC, March 17th, 2023 1200 UTC, and March 19th, 2023 0000 UTC GFS analyses.  The location of these data is provided for you below, as is the filename convention if you wish to use a datetime object to select your time of interest.  For the surface data, note that you need to use archived surface data from Iowa State as you did in last semester's Lab 5 Part 1.\n",
    "\n",
    "Create the following maps for March 16th, 2023 1200 UTC, March 17th, 2023 1200 UTC, and March 19th, 2023 0000 UTC:\n",
    "\n",
    "<ul>\n",
    "  <li>Surface observations and isobars using Iowa State archived surface observations\n",
    "  <li>500 hPa absolute vorticity, temperature, wind barbs, and geopotential height\n",
    "  <li>300 hPa temperature, wind barbs, and geopotential height\n",
    "</ul>\n",
    "\n",
    "Be sure your maps follow the \"good map\" guidelines, and do not forget to import the necessary packages before you start coding.  I've imported the Iowa State observation package for you."
   ]
  },
  {
   "cell_type": "code",
   "execution_count": null,
   "id": "f69d6e20-9e45-4536-ac7b-b6ee6adc7281",
   "metadata": {},
   "outputs": [],
   "source": [
    "# This line declares that we would like to look for modules outside the default location.  Here, I specify the extra modules directory\n",
    "# from within the shared_notebook space for Synoptic I.\n",
    "sys.path.insert(0, '/srv/data/shared_notebooks/Synoptic1-AtmSci360/Modules/')\n",
    "\n",
    "# From the iowa_metar module (found in the special path above), import the download_alldata function.\n",
    "from iowa_metar import download_alldata"
   ]
  },
  {
   "cell_type": "code",
   "execution_count": null,
   "id": "83965865-4685-4cf5-8555-3debefe13945",
   "metadata": {},
   "outputs": [],
   "source": [
    "# variable to specify datetime\n",
    "time = \n",
    "\n",
    "# location of the data\n",
    "data_location = \"/data/AtmSci360/Synp2/Lab_6/\"\n",
    "\n",
    "# naming convention for the GFS data files (if you want to use datetime)\n",
    "file_name = f\"{time:%m%d%y_%H}_gfs.grib2\""
   ]
  },
  {
   "cell_type": "markdown",
   "id": "0e32fddf-3e75-4ea9-84a5-6d224910798e",
   "metadata": {},
   "source": [
    "<br />\n",
    "\n",
    "### Part II Instructions (Graduate Students Only)\n",
    "I have locally archived the latest GFS analysis (April 5th, 2023 at 1200 UTC).  The location of these data is provided for you below, as is the filename convention if you wish to use a datetime object to select your time of interest. \n",
    "\n",
    "Create the following maps using these data:\n",
    "\n",
    "<ul>\n",
    "  <li>Surface observations and isobars using Iowa State archived surface observations\n",
    "  <li>500 hPa absolute vorticity, temperature, wind barbs, and geopotential height\n",
    "  <li>300 hPa temperature, wind barbs, and geopotential height\n",
    "</ul>\n",
    "\n",
    "Be sure your maps follow the \"good map\" guidelines, and do not forget to import the necessary packages before you start coding."
   ]
  },
  {
   "cell_type": "code",
   "execution_count": null,
   "id": "e8b5e12c-8f2c-4ea2-9e72-0458c2f706b6",
   "metadata": {},
   "outputs": [],
   "source": [
    "# variable to specify datetime\n",
    "time = \n",
    "\n",
    "# location of the data\n",
    "data_location = \"/data/AtmSci360/Synp2/Lab_6/\"\n",
    "\n",
    "# naming convention for the GFS data files (if you want to use datetime)\n",
    "file_name = f\"{time:%m%d%y_%H}_gfs.grib2\""
   ]
  }
 ],
 "metadata": {
  "kernelspec": {
   "display_name": "Python 3 (ipykernel)",
   "language": "python",
   "name": "python3"
  },
  "language_info": {
   "codemirror_mode": {
    "name": "ipython",
    "version": 3
   },
   "file_extension": ".py",
   "mimetype": "text/x-python",
   "name": "python",
   "nbconvert_exporter": "python",
   "pygments_lexer": "ipython3",
   "version": "3.7.12"
  }
 },
 "nbformat": 4,
 "nbformat_minor": 5
}
