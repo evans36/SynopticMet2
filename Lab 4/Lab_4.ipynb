{
 "cells": [
  {
   "cell_type": "markdown",
   "id": "3819e82d-9e60-472e-9b8e-286246bc8bd1",
   "metadata": {},
   "source": [
    "## Lab 4: Quasi-Geostrophic Omega Equation\n",
    "In this week's lab, we will use archived (Part I) and real-time (Part II) GFS model data to create 925 hPa, 700 hPa, and 500 hPa synoptic analyses, from which we will use the quasi-geostrohpic omega equation to investigate areas of ascent and descent. \n",
    "<br />\n",
    "\n",
    "<br />\n",
    "\n",
    "### Useful Documentation\n",
    "1. Xarray open_dataset:  https://docs.xarray.dev/en/stable/generated/xarray.open_dataset.html\n",
    "2. Matplotlib contour: https://matplotlib.org/stable/api/_as_gen/matplotlib.pyplot.contour.html\n",
    "3. Cartopy feature: https://scitools.org.uk/cartopy/docs/latest/matplotlib/feature_interface.html\n",
    "4. Datetime: https://docs.python.org/3/library/datetime.html\n",
    "\n"
   ]
  },
  {
   "cell_type": "markdown",
   "id": "35ebe97c-8972-440c-817a-923262c269fa",
   "metadata": {},
   "source": [
    "<br />\n",
    "\n",
    "### Part I Instructions\n",
    "So that you can complete Part I of this lab, I have locally archived the 11 Feburary 2015 1200 UTC GFS analysis.  The location of this data is provided for you below, as is the filenaming convention if you wish to use a datetime object to select your time of interest.\n",
    "\n",
    "Create the following maps using the GFS analysis data:\n",
    "\n",
    "<ul>\n",
    "  <li>500 hPa absolute vorticity, and geopotential height\n",
    "  <li>925 hPa absolute vorticity, and geopotential height\n",
    "  <li>700 hPa air temperature, wind barbs, and geopotential height\n",
    "</ul>\n",
    "\n",
    "Be sure your maps follow the \"good map\" guidelines, and do not forget to import the necessary packages before you start coding.  Note that the second code block below provides you with six different points to plot on your maps; make sure you add these lines to your plotting function after you define the subplot for each map you create."
   ]
  },
  {
   "cell_type": "code",
   "execution_count": null,
   "id": "83965865-4685-4cf5-8555-3debefe13945",
   "metadata": {},
   "outputs": [],
   "source": [
    "# variable to specify datetime\n",
    "time = \n",
    "\n",
    "# location of the data\n",
    "data_location = \"/data/AtmSci360/Synp2/Lab_4/\"\n",
    "\n",
    "# naming convention for the GFS data files (if you want to use datetime)\n",
    "file_name = f\"gfs.0p25.{time:%Y%m%d%H}.f000.grib2\""
   ]
  },
  {
   "cell_type": "code",
   "execution_count": null,
   "id": "6d3d796c-8f4e-4cf2-908d-3e5987bbe2d8",
   "metadata": {},
   "outputs": [],
   "source": [
    "ax.text(-50,49.5, \"A\", size = 16, weight=\"bold\", transform=crs.PlateCarree())\n",
    "ax.text(-121,48, \"B\", size = 16, weight=\"bold\", transform=crs.PlateCarree())\n",
    "ax.text(-92,47, \"C\", size = 16, weight=\"bold\", transform=crs.PlateCarree())\n",
    "ax.text(-84.5,42.5, \"D\", size = 16, weight=\"bold\", transform=crs.PlateCarree())\n",
    "ax.text(-104.5,35.75, \"E\", size = 16, weight=\"bold\", transform=crs.PlateCarree())\n",
    "ax.text(-87,30.25, \"F\", size = 16, weight=\"bold\", transform=crs.PlateCarree())"
   ]
  },
  {
   "cell_type": "markdown",
   "id": "06b071e7-89a3-4b5d-8960-fce3e696e26f",
   "metadata": {},
   "source": [
    "<br />\n",
    "\n",
    "### Part II Instructions\n",
    "So that you can complete Part II of this lab, I have locally archived GFS analyses starting at 1200 UTC 8 March 2023.  As in Part I, the location of these analyses is provided for you below, as is the filenaming convention if you wish to use a datetime object to select your time of interest.\n",
    "\n",
    "Create the following maps using the GFS analysis time of your choosing:\n",
    "\n",
    "<ul>\n",
    "  <li>500 hPa absolute vorticity, and geopotential height\n",
    "  <li>925 hPa absolute vorticity, and geopotential height\n",
    "  <li>700 hPa air temperature, wind barbs, and geopotential height\n",
    "</ul>\n",
    "\n",
    "\n",
    "Be sure your maps follow the \"good map\" guidelines, and do not forget to import the necessary packages before you start coding. "
   ]
  },
  {
   "cell_type": "code",
   "execution_count": null,
   "id": "b4baaaf5-127d-47af-8d95-e5390e56d8a9",
   "metadata": {},
   "outputs": [],
   "source": [
    "# variable to specify datetime\n",
    "time = \n",
    "\n",
    "# location of the data\n",
    "data_location = \"/data/AtmSci360/Synp2/Lab_4/\"\n",
    "\n",
    "# naming convention for the GFS data files (if you want to use datetime)\n",
    "file_name = f\"{time:%m%d%y_%H}_gfs.grib2\""
   ]
  }
 ],
 "metadata": {
  "kernelspec": {
   "display_name": "Python 3 (ipykernel)",
   "language": "python",
   "name": "python3"
  },
  "language_info": {
   "codemirror_mode": {
    "name": "ipython",
    "version": 3
   },
   "file_extension": ".py",
   "mimetype": "text/x-python",
   "name": "python",
   "nbconvert_exporter": "python",
   "pygments_lexer": "ipython3",
   "version": "3.7.12"
  }
 },
 "nbformat": 4,
 "nbformat_minor": 5
}
