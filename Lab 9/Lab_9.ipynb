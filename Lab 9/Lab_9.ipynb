{
 "cells": [
  {
   "cell_type": "markdown",
   "id": "0c510a4e-0d63-4260-938e-511fdc759f2b",
   "metadata": {},
   "source": [
    "## Lab 9: Isentropic Potential Vorticity Anomalies\n",
    "In this week's lab, we will use archived GFS model data to create vertical cross-sections to assist in analyzing IPV anomalies.\n",
    "\n",
    "<br />\n",
    "\n",
    "\n",
    "### Useful Documentation\n",
    "1. Xarray open_dataset:  https://docs.xarray.dev/en/stable/generated/xarray.open_dataset.html\n",
    "2. Matplotlib Contour: https://matplotlib.org/stable/api/_as_gen/matplotlib.pyplot.contour.html\n",
    "3. Datetime: https://docs.python.org/3/library/datetime.html\n",
    "4. Scipy Gaussian Filter: https://docs.scipy.org/doc/scipy/reference/generated/scipy.ndimage.gaussian_filter.html\n",
    "5. MetPy Potential Temperature: https://unidata.github.io/MetPy/latest/api/generated/metpy.calc.potential_temperature.html\n",
    "\n",
    "\n"
   ]
  },
  {
   "cell_type": "markdown",
   "id": "2600d2ed-4650-4363-9e66-88f7a027a60f",
   "metadata": {},
   "source": [
    "<br />\n",
    "\n",
    "## Tutorial Part I\n",
    "\n",
    "\n",
    "In this week's lab, we will create vertical cross-sections of potential temperature and the meridional wind.  In this week's tutorial, I am going to show you how to create a simple vertical cross-section across the United States at 45°N.\n",
    "\n",
    "<br />\n",
    "\n",
    "1. First, we open a sample dataset with pressure as the vertical coordinate, here representing a GFS analysis from February 9th, 2023.\n"
   ]
  },
  {
   "cell_type": "code",
   "execution_count": null,
   "id": "7b5f45a4-c645-4a3b-a9aa-efe4c2ccea65",
   "metadata": {},
   "outputs": [],
   "source": [
    "from datetime import datetime\n",
    "import xarray as xr\n",
    "\n",
    "time = datetime(2023,2,9,0)\n",
    "data_location = \"/data/AtmSci360/Synp2/Lab_8/\"\n",
    "file_name = f\"{time:%m%d%y_%H}_gfs.grib2\"\n",
    "\n",
    "data = xr.open_dataset(f\"{data_location}{file_name}\", engine='cfgrib', filter_by_keys={'typeOfLevel': 'isobaricInhPa'})\n",
    "data"
   ]
  },
  {
   "cell_type": "markdown",
   "id": "0e60cf32-65a5-4abb-bf99-776a9ad1904b",
   "metadata": {},
   "source": [
    "<br />\n",
    "\n",
    "2. Next, we calculate potential temperature and save it back to the data xarray."
   ]
  },
  {
   "cell_type": "code",
   "execution_count": null,
   "id": "43c5b5e9-5644-4615-acce-aeceff795594",
   "metadata": {},
   "outputs": [],
   "source": [
    "import metpy.calc as calc\n",
    "pt = calc.potential_temperature(data.isobaricInhPa, data.t)\n",
    "data = data.assign(pt=pt)"
   ]
  },
  {
   "cell_type": "markdown",
   "id": "4ef2423e-676b-4a10-aa8d-211aabb54edb",
   "metadata": {},
   "source": [
    "<br />\n",
    "\n",
    "3. We are now ready to slice the data so that it represents a single vertical cross-section.  This requires two slice operations: first selecting the points at 45&deg;N latitude, then retaining only those between 115&deg;W and 75&deg;W longitude.  "
   ]
  },
  {
   "cell_type": "code",
   "execution_count": null,
   "id": "b4926411-f5d3-4e5e-99f1-1f36276d9b66",
   "metadata": {},
   "outputs": [],
   "source": [
    "cross = data.sel(latitude=45)\n",
    "cross = cross.sel(longitude = slice(360-115,360-75))\n",
    "cross"
   ]
  },
  {
   "cell_type": "markdown",
   "id": "a23c7641-2956-4898-9bff-55110c695797",
   "metadata": {},
   "source": [
    "<br />\n",
    "\n",
    "4.  Finally, we are ready to create our plot.  We use matplotlib's contour functionality to do so, noting that we do not need to provide a coordinate transform since we are not plotting data on a map.  In this case, our x-axis is longitude and our y-axis is the natural logarithm of pressure.  I've added comments below so you can better follow along."
   ]
  },
  {
   "cell_type": "code",
   "execution_count": null,
   "id": "f4dd77aa-7c3b-4397-9ebd-8838c22fcd99",
   "metadata": {},
   "outputs": [],
   "source": [
    "\"\"\"\n",
    "Import the usual packages for plotting.\n",
    "\"\"\"\n",
    "import matplotlib.pyplot as plt\n",
    "from scipy.ndimage import gaussian_filter\n",
    "import numpy as np\n",
    "\n",
    "\"\"\"\n",
    "Generate a blank figure and subplot.  Note we do not need to provide a projection since we are not\n",
    "plotting on a map.\n",
    "\"\"\"\n",
    "fig = plt.figure(figsize=(16,9), dpi=300)\n",
    "ax = plt.subplot()\n",
    "\n",
    "\"\"\"\n",
    "The contour statement, indicating longitude at the x-axis variable and pressure as the y-axis variable.\n",
    "Gaussian-smoothed potential temperature is what is plotted in labeled contours with a 5 K contour interval.\n",
    "\"\"\"\n",
    "cont = plt.contour(cross.longitude-360, cross.isobaricInhPa.values, gaussian_filter(cross.pt.values,1), np.arange(230,900,5))\n",
    "ax.clabel(cont, cont.levels, inline=True, fontsize=6)\n",
    "\n",
    "\"\"\"\n",
    "Set the y-axis as natural logarithmic.\n",
    "\"\"\"\n",
    "ax.set_yscale('symlog')\n",
    "\n",
    "\"\"\"\n",
    "Set the y-axis limits to 1000 hPa at the bottom and 100 hPa at the top.\n",
    "\"\"\"\n",
    "plt.ylim(1000,100)\n",
    "\n",
    "\"\"\"\n",
    "This changes the tick labels.  By default, matplotlib uses scientific notation for natural logarithm axis labels.\n",
    "Manually specifying the tick locations and their labels addresses this issue.\n",
    "\"\"\"\n",
    "ax.set_yticks(np.arange(1000, 50, -100))\n",
    "ax.set_yticklabels(np.arange(1000, 50, -100))"
   ]
  },
  {
   "cell_type": "markdown",
   "id": "d96c752c-7383-43f7-a156-6412b6a99643",
   "metadata": {},
   "source": [
    "### Instructions\n",
    "So that you can complete this week's lab, I have locally archived the March 7th, 2023 1200 UTC GFS analysis.  The location of these data is provided for you below, as is the filename convention if you wish to use a datetime object to select your time of interest.\n",
    "\n",
    "Create the following maps and plots for March 7th, 2023 at 1200 UTC:\n",
    "\n",
    "<ul>\n",
    "    <li>Vertical cross-section between 1000-100 hPa of potential temperature and the meridional wind at 45&deg;N between 145&deg;W and 80&deg;W</li>\n",
    "    <li>Vertical cross-section between 1000-100 hPa of potential temperature and the meridional wind at 25&deg;N between 120&deg;W and 85&deg;W</li>\n",
    "</ul>\n",
    "    \n",
    "Be sure your maps follow the \"good map\" guidelines, and do not forget to import the necessary packages before you start coding."
   ]
  },
  {
   "cell_type": "code",
   "execution_count": null,
   "id": "901271fb-a057-4817-ab07-9e0bfc81aa1c",
   "metadata": {},
   "outputs": [],
   "source": [
    "data_location = \"/data/AtmSci360/Synp2/Lab_9/\"\n",
    "file_name = f\"{time:%m%d%y_%H}_gfs.grib2\""
   ]
  }
 ],
 "metadata": {
  "kernelspec": {
   "display_name": "Python 3 (ipykernel)",
   "language": "python",
   "name": "python3"
  },
  "language_info": {
   "codemirror_mode": {
    "name": "ipython",
    "version": 3
   },
   "file_extension": ".py",
   "mimetype": "text/x-python",
   "name": "python",
   "nbconvert_exporter": "python",
   "pygments_lexer": "ipython3",
   "version": "3.7.12"
  }
 },
 "nbformat": 4,
 "nbformat_minor": 5
}
