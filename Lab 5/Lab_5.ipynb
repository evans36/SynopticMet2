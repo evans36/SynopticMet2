{
 "cells": [
  {
   "cell_type": "markdown",
   "id": "3819e82d-9e60-472e-9b8e-286246bc8bd1",
   "metadata": {},
   "source": [
    "## Lab 5: Q-Vectors\n",
    "In this week's lab, we will be creating Q-Vector analyses to supplement Lab 5.  \n",
    "\n",
    "<br />\n",
    "\n",
    "### Useful Documentation\n",
    "1. Xarray open_dataset:  https://docs.xarray.dev/en/stable/generated/xarray.open_dataset.html\n",
    "2. Matplotlib Contour: https://matplotlib.org/stable/api/_as_gen/matplotlib.pyplot.contour.html\n",
    "3. Matplotlib Quiver: https://matplotlib.org/stable/api/_as_gen/matplotlib.pyplot.quiver.html\n",
    "4. Cartopy Feature: https://scitools.org.uk/cartopy/docs/latest/matplotlib/feature_interface.html\n",
    "5. MetPy Units: https://unidata.github.io/MetPy/latest/tutorials/unit_tutorial.html\n",
    "6. Datetime: https://docs.python.org/3/library/datetime.html\n",
    "7. MetPy q_vector: https://unidata.github.io/MetPy/latest/api/generated/metpy.calc.q_vector.html\n",
    "8. MetPy Divergence: https://unidata.github.io/MetPy/latest/api/generated/metpy.calc.divergence.html\n",
    "\n",
    "<br />\n",
    "\n",
    "### Tutorial\n",
    "This week's, we wish to plot Q-Vectors and Q-Vector divergence using MetPy's q_vector and divergence functions.  This week's lab begins with a short tutorial on how to calculate and plot both the Q-Vectors and the Q-Vector divergence.\n",
    "\n",
    "<br />\n",
    "\n",
    "1. You are given some sample data below.  To calculate Q-Vectors, we need temperature, the u- and v-wind components, pressure, latitude, and longitude. Note: after initially defining these data as separate numpy arrays with MetPy units, the data are saved into an xarray Dataset to mimic the structure of gridded atmospheric datasets."
   ]
  },
  {
   "cell_type": "code",
   "execution_count": null,
   "id": "706fa8e8-b190-4859-9042-19f1103593de",
   "metadata": {},
   "outputs": [],
   "source": [
    "import numpy as np\n",
    "from metpy.units import units\n",
    "from scipy.ndimage import gaussian_filter\n",
    "import xarray as xr\n",
    "\n",
    "# Define atmospheric variables on an idealized 5x5 grid.\n",
    "temperature = np.array([[273, 273, 273, 273],\n",
    "                        [274, 274, 274, 274],\n",
    "                        [276, 276, 276, 276],\n",
    "                        [278, 278, 278, 278],\n",
    "                        [279, 279, 279, 279]])\n",
    "\n",
    "pressure = np.array([[850, 850, 850, 850],\n",
    "                     [850, 850, 850, 850],\n",
    "                     [850, 850, 850, 850],\n",
    "                     [850, 850, 850, 850],\n",
    "                     [850, 850, 850, 850]])\n",
    "\n",
    "u_wind = np.array([[0, 2, 5, 10],\n",
    "                   [0, 2, 5, 10],\n",
    "                   [0, 2, 5, 10],\n",
    "                   [0, 2, 5, 10],\n",
    "                   [0, 2, 5, 10]])\n",
    "\n",
    "v_wind = np.array([[-10, -10, -10, -10],\n",
    "                   [-2, -2, -2, -2],\n",
    "                   [0, 0, 0, 0],\n",
    "                   [2, 2, 2, 2],\n",
    "                   [10, 10, 10, 10]])\n",
    "\n",
    "latitude = np.array([41.5,\n",
    "                     41.25,\n",
    "                     41,\n",
    "                     40.75,\n",
    "                     40.5])\n",
    "\n",
    "longitude = np.array([-100,-99.75,-99.5,-99.25])\n",
    "\n",
    "# Combine these data arrays into an xarray Dataset.\n",
    "ds = xr.Dataset(\n",
    "    data_vars=dict(\n",
    "        temperature=([\"latitude\", \"longitude\"], temperature),\n",
    "        u=([\"latitude\", \"longitude\"], u_wind),    \n",
    "        v=([\"latitude\", \"longitude\"], v_wind),        \n",
    "        pressure=([\"latitude\", \"longitude\"], pressure)\n",
    "    ),\n",
    "    coords=dict(\n",
    "        longitude=([\"longitude\"], longitude),\n",
    "        latitude=([\"latitude\"], latitude),\n",
    "    ),\n",
    "    attrs=dict(description=\"Idealized Data\"),\n",
    ")\n",
    "\n",
    "# Assign units\n",
    "ds.u.attrs = {\"units\" : \"mps\"}\n",
    "ds.v.attrs = {\"units\" : \"mps\"}\n",
    "ds.temperature.attrs = {\"units\" : \"kelvin\"}\n",
    "ds.pressure.attrs = {\"units\" : \"hPa\"}\n",
    "ds.latitude.attrs = {\"units\" : \"degrees_north\"}\n",
    "ds.longitude.attrs = {\"units\" : \"degrees_east\"}\n",
    "\n",
    "ds"
   ]
  },
  {
   "cell_type": "markdown",
   "id": "d03e8475-cfde-44fe-98d1-77d73156da06",
   "metadata": {},
   "source": [
    "<br />\n",
    "\n",
    "<br />\n",
    "\n",
    "2. Raw Q-Vector data can be messy, with substantial mesoscale variability. To emphasize synoptic-scale features, however, we want to smooth the data. Since the vectors' angles are important, however, we need to smooth our data before we calculate the Q-Vectors.  The code below applies a Gaussian filer to the data, then saves the smoothed data back to the xarray.  A small sigma value (0.5) is used for these idealized data, such that little smoothing is applied, but a larger sigma value (such as 3) is more appropriate for real-world datasets..\n",
    "\n"
   ]
  },
  {
   "cell_type": "code",
   "execution_count": null,
   "id": "6d04e065-34b9-48c3-971a-b1cc736e0a8e",
   "metadata": {},
   "outputs": [],
   "source": [
    "ds.temperature.values = gaussian_filter(ds.temperature.values,0.5)\n",
    "ds.u.values = gaussian_filter(ds.u.values,0.5)\n",
    "ds.v.values = gaussian_filter(ds.v.values,0.5)"
   ]
  },
  {
   "cell_type": "markdown",
   "id": "9194ade3-80c4-4110-b3db-ce45d760de19",
   "metadata": {},
   "source": [
    "<br /><br />\n",
    "\n",
    "3. We are now ready to calculate the Q-Vectors.  Below, the MetPy Q-Vector function is used to calculate the u and v components of the Q-Vector using the temperature, pressure, u- and v-wind component data.\n"
   ]
  },
  {
   "cell_type": "code",
   "execution_count": null,
   "id": "213e7b78-36f4-4538-957a-0791fe4f71ac",
   "metadata": {},
   "outputs": [],
   "source": [
    "import metpy.calc as calc\n",
    "q_u, q_v = calc.q_vector(ds.u, ds.v, ds.temperature, ds.pressure)\n",
    "q_v"
   ]
  },
  {
   "cell_type": "markdown",
   "id": "3af990a3-ec16-44bf-97eb-b4b956b8a0d2",
   "metadata": {},
   "source": [
    "<br /><br />\n",
    "4. Next, we plot the Q-Vectors using matplotlib's quiver function.  The quiver function takes the following arguments in the order listed:\n",
    "- Longitude\n",
    "- Latitude\n",
    "- Vector u component\n",
    "- Vector v component\n",
    "- The data's coordinate system.  For a latitude/longitude grid on a regular map projection, this is typically PlateCarree.\n",
    "- Scale.  The number provided for this argument means that a vector with that magnitude will be drawn at the default length, with other vector magnitudes drawn proportional to this one. Thus, smaller values result in longer vectors and larger values result in smaller vectors."
   ]
  },
  {
   "cell_type": "code",
   "execution_count": null,
   "id": "4e55023d-687e-4065-90a9-7d6dbfc35029",
   "metadata": {},
   "outputs": [],
   "source": [
    "import matplotlib.pyplot as plt\n",
    "import cartopy.crs as crs\n",
    "import cartopy.feature as cfeature\n",
    "%matplotlib inline\n",
    "\n",
    "# Create a small figure.\n",
    "fig = plt.figure(figsize=(2,2), dpi=300)\n",
    "\n",
    "# Use a Lambert conformal projection for plotting.\n",
    "ax = plt.subplot(projection=crs.LambertConformal(central_longitude=-99.5, central_latitude=41.0,standard_parallels=(41.25,41.75)))\n",
    "\n",
    "# Create spacing between vectors to make them legible.\n",
    "# This option skips every other data point.\n",
    "spacing = slice(None, None, 1)\n",
    "\n",
    "# Plot the vectors.\n",
    "ax.quiver(ds.longitude.values[spacing],\n",
    "          ds.latitude.values[spacing],\n",
    "          q_u.values[spacing, spacing],\n",
    "          q_v.values[spacing, spacing],\n",
    "          transform=crs.PlateCarree(),\n",
    "          scale=2 * 10**-10)\n",
    "\n",
    "# Add a descriptive title.\n",
    "plt.title(\"Q-Vectors\", weight=\"bold\", size=5)\n"
   ]
  },
  {
   "cell_type": "markdown",
   "id": "e21d780e-652b-4203-a80b-503af840434d",
   "metadata": {},
   "source": [
    "<br /><br />\n",
    "\n",
    "5. We are typically interested in where Q-Vectors are converging (indicating forcing for ascent) and where the vectors are diverging (indicating forcing for descent).  We can obtain the Q-Vector divergence by using MetPy's divergence function:"
   ]
  },
  {
   "cell_type": "code",
   "execution_count": null,
   "id": "7f619179-2d7f-4950-9adf-99657ce053e2",
   "metadata": {},
   "outputs": [],
   "source": [
    "divergence = calc.divergence(q_u, q_v)\n",
    "divergence"
   ]
  },
  {
   "cell_type": "markdown",
   "id": "2183f28b-1e07-4da6-b90d-00668fb07ddb",
   "metadata": {},
   "source": [
    "<br /><br />\n",
    "\n",
    "6. Finally, we can plot the Q-Vectors and their divergence on the same map.  Note: the Q-Vector divergence is multiplied by 10<sup>17</sup> so that the contour values are easier to interpret, and the color table is reversed so that red shading indicates ascent."
   ]
  },
  {
   "cell_type": "code",
   "execution_count": null,
   "id": "15a7a61c-8f9a-45b2-ac59-60ed45ceb18b",
   "metadata": {},
   "outputs": [],
   "source": [
    "# Create the figure.\n",
    "fig = plt.figure(figsize=(2,2), dpi=300)\n",
    "\n",
    "# Use a Lambert conformal projection for plotting.\n",
    "ax = plt.subplot(projection=crs.LambertConformal(central_longitude=-99.5, central_latitude=41.0,standard_parallels=(41.25,41.75)))\n",
    "\n",
    "# Contour the Q-Vector divergence.\n",
    "cont = ax.contourf(ds.longitude.values, ds.latitude.values, divergence.values* 10**17, np.arange(-20,22.5,2.5), cmap=\"bwr_r\", transform=crs.PlateCarree(), extend=\"both\", alpha=0.75)\n",
    "\n",
    "# Create a divergence colorbar, then add a label to it and adjust the tick labels\n",
    "# to be smaller (for this small plot) so they are legible.\n",
    "cb = plt.colorbar(cont)\n",
    "cb.set_label(\"Q-Vector Divergence $m kg^{-1} s^{-1}$ x $10^{-17}$\", size=4)\n",
    "cb.ax.tick_params(labelsize=3)\n",
    "\n",
    "# Create spacing between vectors to make them legible.\n",
    "# This option skips every other data point.\n",
    "spacing = slice(None, None, 1)\n",
    "\n",
    "# Plot the vectors.\n",
    "ax.quiver(ds.longitude.values[spacing],\n",
    "          ds.latitude.values[spacing],\n",
    "          q_u.values[spacing, spacing],\n",
    "          q_v.values[spacing, spacing],\n",
    "          transform=crs.PlateCarree(),\n",
    "          scale=2 * 10**-10)\n",
    "\n",
    "# Add a descriptive title.\n",
    "plt.title(\"Q-Vectors and Q-Vector Divergence ($m kg^{-1} s^{-1}$ x $10^{-17}$)\", weight=\"bold\", size=4)\n"
   ]
  },
  {
   "cell_type": "markdown",
   "id": "2b525ada-5e45-44f1-9d7f-b3db25994552",
   "metadata": {},
   "source": [
    "<br /><br />\n",
    "\n",
    "### Part II Instructions\n",
    "\n",
    "The 1800 UTC 22 February 2023 GFS analysis has been locally downloaded for you to use with this lab.  The location of these data is provided for you below, as is the filename convention if you wish to use a datetime object to select your time of interest.\n",
    "\n",
    "Using the downloaded GFS data, create the following maps:\n",
    "\n",
    "<ul>\n",
    "    <li>500 hPa Geopotential Height and Absolute Vorticity\n",
    "    <li>925 hPa Geopotential Height and Absolute Vorticity\n",
    "    <li>700 hPa Geopotential Height, Temperature, Q-Vectors, and Q-Vector Divergence\n",
    "</ul>\n",
    "\n",
    "Be sure your maps follow the \"good map\" guidelines, and don't forget to import the necessary packages before you start coding. Make sure that your plots incorporate the points included in the second code block below."
   ]
  },
  {
   "cell_type": "code",
   "execution_count": null,
   "id": "3bb9043e-82f7-4f32-8053-49ad1a3f9b39",
   "metadata": {},
   "outputs": [],
   "source": [
    "from datetime import datetime\n",
    "\n",
    "# Variable to specify datetime.\n",
    "time = \n",
    "\n",
    "# Data location.\n",
    "data_location = \"/data/AtmSci360/Synp2/Lab_5/\"\n",
    "\n",
    "# Filename convention.\n",
    "file_name = f\"{time:%m%d%y_%H}_gfs.grib2\""
   ]
  },
  {
   "cell_type": "code",
   "execution_count": null,
   "id": "75252585-28c0-40a1-818a-f2a7ba4a0ec2",
   "metadata": {},
   "outputs": [],
   "source": [
    "ax.text(-91, 39.25, \"A\", size = 16, weight=\"bold\", transform=crs.PlateCarree())\n",
    "ax.text(-96, 47.5, \"B\", size = 16, weight=\"bold\", transform=crs.PlateCarree())"
   ]
  },
  {
   "cell_type": "markdown",
   "id": "1cbe8907-afc2-46aa-abc8-8e755552d493",
   "metadata": {},
   "source": [
    "<br /><br />\n",
    "\n",
    "### Part IV Instructions\n",
    "\n",
    "So you can complete this part of the lab, GFS analyses since 1200 UTC 15 March 2023 have been locally downloaded for you to use to complete this part of the lab.  The location of these data is provided for you below, as is the filename convention if you wish to use a datetime object to select your time of interest.\n",
    "\n",
    "Using the downloaded GFS data, create the following maps:\n",
    "\n",
    "<ul>\n",
    "    <li>500 hPa Geopotential Height and Absolute Vorticity\n",
    "    <li>925 hPa Geopotential Height and Absolute Vorticity\n",
    "    <li>700 hPa Geopotential Height, Temperature, Q-Vectors, and Q-Vector Divergence\n",
    "</ul>\n",
    "\n",
    "Be sure your maps follow the \"good map\" guidelines, and don't forget to import the necessary packages before you start coding."
   ]
  },
  {
   "cell_type": "code",
   "execution_count": null,
   "id": "a211800b-5bd6-404b-acb5-bb67a1a820b5",
   "metadata": {},
   "outputs": [],
   "source": [
    "# Variable to specify datetime.\n",
    "time = \n",
    "\n",
    "# Data location.\n",
    "data_location = \"/data/AtmSci360/Synp2/Lab_5/\"\n",
    "\n",
    "# Filename convention.\n",
    "file_name = f\"{time:%m%d%y_%H}_gfs.grib2\""
   ]
  }
 ],
 "metadata": {
  "kernelspec": {
   "display_name": "Python 3 (ipykernel)",
   "language": "python",
   "name": "python3"
  },
  "language_info": {
   "codemirror_mode": {
    "name": "ipython",
    "version": 3
   },
   "file_extension": ".py",
   "mimetype": "text/x-python",
   "name": "python",
   "nbconvert_exporter": "python",
   "pygments_lexer": "ipython3",
   "version": "3.7.12"
  }
 },
 "nbformat": 4,
 "nbformat_minor": 5
}
