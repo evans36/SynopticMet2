{
 "cells": [
  {
   "attachments": {},
   "cell_type": "markdown",
   "id": "0c510a4e-0d63-4260-938e-511fdc759f2b",
   "metadata": {},
   "source": [
    "## Lab 8: Isentropic Potential Vorticity\n",
    "In this week's lab, we will use archived GFS model data and MetPy functions to create our first isentropic potential vorticity analyses.\n",
    "\n",
    "<br />\n",
    "\n",
    "\n",
    "### Useful Documentation\n",
    "1. Xarray open_dataset:  https://docs.xarray.dev/en/stable/generated/xarray.open_dataset.html\n",
    "2. Matplotlib Contour: https://matplotlib.org/stable/api/_as_gen/matplotlib.pyplot.contour.html\n",
    "3. Cartopy Feature: https://scitools.org.uk/cartopy/docs/latest/matplotlib/feature_interface.html\n",
    "4. MetPy Units: https://unidata.github.io/MetPy/latest/tutorials/unit_tutorial.html\n",
    "5. Datetime: https://docs.python.org/3/library/datetime.html\n",
    "6. Scipy gaussian_filter: https://docs.scipy.org/doc/scipy/reference/generated/scipy.ndimage.gaussian_filter.html\n",
    "7. MetPy isentropic_interpolation_as_dataset: https://unidata.github.io/MetPy/latest/api/generated/metpy.calc.isentropic_interpolation_as_dataset.html#metpy.calc.isentropic_interpolation_as_dataset\n",
    "8. MetPy potential_temperature: https://unidata.github.io/MetPy/latest/api/generated/metpy.calc.potential_temperature.html\n",
    "9. MetPy potential_vorticity_baroclinic: https://unidata.github.io/MetPy/latest/api/generated/metpy.calc.potential_vorticity_baroclinic.html"
   ]
  },
  {
   "attachments": {},
   "cell_type": "markdown",
   "id": "2600d2ed-4650-4363-9e66-88f7a027a60f",
   "metadata": {},
   "source": [
    "<br />\n",
    "\n",
    "## Tutorial Part I\n",
    "\n",
    "\n",
    "In the first part of this week's tutorial, I am going to show you the procedure for calculating isentropic potential vorticity from gridded GFS model data..\n",
    "\n",
    "<br />\n",
    "\n",
    "1. First, we open a sample dataset with pressure as the vertical coordinate, here representing a GFS analysis from 0000 UTC February 9th, 2023."
   ]
  },
  {
   "cell_type": "code",
   "execution_count": null,
   "id": "7b5f45a4-c645-4a3b-a9aa-efe4c2ccea65",
   "metadata": {},
   "outputs": [],
   "source": [
    "from datetime import datetime\n",
    "import xarray as xr\n",
    "\n",
    "time = datetime(2023,2,9,0)\n",
    "data_location = \"/data/AtmSci360/Synp2/Lab_8/\"\n",
    "file_name = f\"{time:%m%d%y_%H}_gfs.grib2\"\n",
    "\n",
    "data = xr.open_dataset(f\"{data_location}{file_name}\", engine='cfgrib', filter_by_keys={'typeOfLevel': 'isobaricInhPa'})\n",
    "data"
   ]
  },
  {
   "attachments": {},
   "cell_type": "markdown",
   "id": "0e60cf32-65a5-4abb-bf99-776a9ad1904b",
   "metadata": {},
   "source": [
    "<br />\n",
    "\n",
    "2. Next, we need to convert our vertical coordinate to potential temperature.  To start, we define the desired isentropic level or levels.  At least three isentropic levels are needed for MetPy to be able to compute isentropic potential vorticity (one for the absolute vorticity and two more - one below and one above - for static stability). In the example below, we interpolate data to the 295, 300, and 305 K isentropic surfaces so that we can later compute isentropic potential vorticity on the 300-K surface."
   ]
  },
  {
   "cell_type": "code",
   "execution_count": null,
   "id": "43c5b5e9-5644-4615-acce-aeceff795594",
   "metadata": {},
   "outputs": [],
   "source": [
    "from metpy.units import units\n",
    "levels = [295,300,305] * units.kelvin\n",
    "levels"
   ]
  },
  {
   "attachments": {},
   "cell_type": "markdown",
   "id": "4ef2423e-676b-4a10-aa8d-211aabb54edb",
   "metadata": {},
   "source": [
    "<br />\n",
    "\n",
    "3. Now we are ready to use MetPy's isentropic_interpolation_as_dataset function.  To later compute isentropic potential vorticity, we need the u- and v-components of the wind to compute absolute vorticity and pressure to compute static stability (since potential temperature in the numerator of the static stability calculation is defined by the isentropic levels themselves).  Since pressure is automatically calculated by the isentropic_interpolation_as_dataset function, we only need to add the u- (u) and v-components of the wind to this function call."
   ]
  },
  {
   "cell_type": "code",
   "execution_count": null,
   "id": "b4926411-f5d3-4e5e-99f1-1f36276d9b66",
   "metadata": {},
   "outputs": [],
   "source": [
    "import metpy.calc as calc\n",
    "isen_data = calc.isentropic_interpolation_as_dataset(levels, data.t, data.u, data.v)\n",
    "isen_data"
   ]
  },
  {
   "attachments": {},
   "cell_type": "markdown",
   "id": "a23c7641-2956-4898-9bff-55110c695797",
   "metadata": {},
   "source": [
    "<br />\n",
    "\n",
    "4.  Next, we use MetPy's potential_vorticity_baroclinic function to compute isentropic potential vorticity.  The potential_vorticity_baroclinic function requires the following inputs:\n",
    "\n",
    "    - potential temperature\n",
    "    - pressure\n",
    "    - u-component of the full wind\n",
    "    - v-component of the full wind\n"
   ]
  },
  {
   "cell_type": "code",
   "execution_count": null,
   "id": "f4dd77aa-7c3b-4397-9ebd-8838c22fcd99",
   "metadata": {},
   "outputs": [],
   "source": [
    "pv = calc.potential_vorticity_baroclinic(isen_data.isentropic_level, isen_data.pressure, isen_data.u, isen_data.v)\n",
    "pv"
   ]
  },
  {
   "attachments": {},
   "cell_type": "markdown",
   "id": "e44a0de0-7eca-44c0-a2bd-4b523d5864a9",
   "metadata": {},
   "source": [
    "<br />\n",
    "\n",
    "5. Finally, we convert our PV data to PVU by multiplying 10<sup>6</sup>, after which we select a single level of interest."
   ]
  },
  {
   "cell_type": "code",
   "execution_count": null,
   "id": "0e9924ee-8adf-4669-b3b4-446b53600243",
   "metadata": {},
   "outputs": [],
   "source": [
    "pv = pv * (10**6)\n",
    "leveled_pv = pv.sel(isentropic_level=300)\n",
    "leveled_pv"
   ]
  },
  {
   "attachments": {},
   "cell_type": "markdown",
   "id": "fc311517-e8f1-40d9-bf19-d3530c571b9d",
   "metadata": {},
   "source": [
    "<br />\n",
    "\n",
    "## Tutorial Part II\n",
    "\n",
    "\n",
    "In this week's lab, we will also create charts of potential temperatures on the dynamic tropopause (a constant-IPV surface).  An example is given below of how to compute the potential temperature on the dynamic tropopause.\n",
    "\n",
    "<br />\n",
    "\n",
    "1. The GFS data from NCEP already contain specific fields on the dynamic tropopause (which they define as the 2-PVU surface).  Fortunately for us, these data include all of the variables that we will need to compute the potential temperature on the dynamic tropopause.  To start, we open a sample dataset, here representing a GFS analysis from 0000 UTC February 9th, 2023, selecting only the variables on the dynamic tropopause's defined vertical level (filter_by_keys={'typeOfLevel': 'tropopause'}).\n"
   ]
  },
  {
   "cell_type": "code",
   "execution_count": null,
   "id": "34aef383-fd8f-4194-bc3d-f2f266f9b803",
   "metadata": {},
   "outputs": [],
   "source": [
    "time = datetime(2023,2,9,0)\n",
    "data_location = \"/data/AtmSci360/Synp2/Lab_8/\"\n",
    "file_name = f\"{time:%m%d%y_%H}_gfs.grib2\"\n",
    "\n",
    "data = xr.open_dataset(f\"{data_location}{file_name}\", engine='cfgrib', filter_by_keys={'typeOfLevel': 'tropopause'})\n",
    "data"
   ]
  },
  {
   "attachments": {},
   "cell_type": "markdown",
   "id": "5d00ab92-54e7-4fdc-85f2-a5b094bbac88",
   "metadata": {},
   "source": [
    "<br />\n",
    "2.  We then calculate the potential temperature using MetPy's potential temperature function and the data we just opened:"
   ]
  },
  {
   "cell_type": "code",
   "execution_count": null,
   "id": "61beaa46-a425-4ef5-ab56-0911167e98bf",
   "metadata": {},
   "outputs": [],
   "source": [
    "pt = calc.potential_temperature(data.trpp, data.t)\n",
    "pt"
   ]
  },
  {
   "attachments": {},
   "cell_type": "markdown",
   "id": "b7945098-1e68-4a52-bb53-f836b64650c9",
   "metadata": {},
   "source": [
    "<br />\n",
    "\n",
    "### Instructions\n",
    "So that you can complete this week's lab, I have locally archived the March 10th, 2023 1200 UTC GFS analysis.  The location of these data is provided for you below, as is the filename convention if you wish to use a datetime object to select your time of interest.\n",
    "\n",
    "Create the following maps and plots for March 10th, 2023 at 1200 UTC:\n",
    "\n",
    "<ul>\n",
    "  <li>300 hPa geopotential height, temperature, and wind barbs\n",
    "  <li>Dynamic tropopause potential temperature and wind barbs\n",
    "  <li>300 K isentropic potential vorticity and wind barbs\n",
    "  <li>Skew-T/p-log diagrams for\n",
    "  <ul>\n",
    "      <li> KGGW\n",
    "      <li> KSLE\n",
    "      <li> KDVN\n",
    "      </ul>\n",
    "</ul>\n",
    "\n",
    "Be sure your Skew-T, ln-p diagrams use observed data from the University of Wyoming.  Finally, be sure your maps follow the \"good map\" guidelines, and do not forget to import the necessary packages before you start coding.  "
   ]
  },
  {
   "cell_type": "code",
   "execution_count": null,
   "id": "e7c85caa-4fff-4203-8f2a-e3b4ba25fd1f",
   "metadata": {},
   "outputs": [],
   "source": [
    "time = \n",
    "data_location = \"/data/AtmSci360/Synp2/Lab_8/\"\n",
    "file_name = f\"{time:%m%d%y_%H}_gfs.grib2\""
   ]
  }
 ],
 "metadata": {
  "kernelspec": {
   "display_name": "Python 3 (ipykernel)",
   "language": "python",
   "name": "python3"
  },
  "language_info": {
   "codemirror_mode": {
    "name": "ipython",
    "version": 3
   },
   "file_extension": ".py",
   "mimetype": "text/x-python",
   "name": "python",
   "nbconvert_exporter": "python",
   "pygments_lexer": "ipython3",
   "version": "3.7.12"
  }
 },
 "nbformat": 4,
 "nbformat_minor": 5
}
