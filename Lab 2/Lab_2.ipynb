{
 "cells": [
  {
   "cell_type": "markdown",
   "id": "3819e82d-9e60-472e-9b8e-286246bc8bd1",
   "metadata": {},
   "source": [
    "## Lab 2: Quasi-Geostrophic Vorticity Equation \n",
    "In this week's lab, we will use GFS model data to create 500 hPa analyses in support of our arguments for how shortwave and longwave troughs move relative to each other. \n",
    "<br />\n",
    "\n",
    "<br />\n",
    "\n",
    "### Useful Documentation\n",
    "1. Xarray open_dataset:  https://docs.xarray.dev/en/stable/generated/xarray.open_dataset.html\n",
    "2. Matplotlib contour: https://matplotlib.org/stable/api/_as_gen/matplotlib.pyplot.contour.html\n",
    "3. Cartopy feature: https://scitools.org.uk/cartopy/docs/latest/matplotlib/feature_interface.html\n",
    "4. Datetime: https://docs.python.org/3/library/datetime.html\n",
    "\n"
   ]
  },
  {
   "cell_type": "markdown",
   "id": "35ebe97c-8972-440c-817a-923262c269fa",
   "metadata": {},
   "source": [
    "<br />\n",
    "\n",
    "### Instructions\n",
    "So you can complete this week's lab, I have downloaded the 1200 UTC 15 February 2023 GFS forecast between forecast hours 0 (the 1200 UTC 15 February 2023 0-h analysis) and 168 (the day-seven forecast at 1200 UTC 22 February 2023), with data provided every six hours.  The location of these data is provided for you below, as is the filenaming convention if you wish to use a datetime object to select your time of interest.\n",
    "\n",
    "Using these GFS data, create 500-hPa analyses of (at a minimum) geopotential height and absolute vorticity at two consecutive times.  Be sure that each of your maps depict at least one distinct shortwave trough and one distinct longwave trough.  Also, be sure your maps follow the \"good map\" guidelines, and do not forget to import the necessary packages before you start coding."
   ]
  },
  {
   "cell_type": "code",
   "execution_count": null,
   "id": "83965865-4685-4cf5-8555-3debefe13945",
   "metadata": {},
   "outputs": [],
   "source": [
    "# variable to specify datetime\n",
    "time = \n",
    "\n",
    "# location of the data\n",
    "data_location = \"/data/AtmSci360/Synp2/Lab_2/\"\n",
    "\n",
    "# naming convention for the GFS data files (if you want to use datetime)\n",
    "file_name = f\"{time:%m%d%y_%H}_gfs.grib2\""
   ]
  }
 ],
 "metadata": {
  "kernelspec": {
   "display_name": "Python 3 (ipykernel)",
   "language": "python",
   "name": "python3"
  },
  "language_info": {
   "codemirror_mode": {
    "name": "ipython",
    "version": 3
   },
   "file_extension": ".py",
   "mimetype": "text/x-python",
   "name": "python",
   "nbconvert_exporter": "python",
   "pygments_lexer": "ipython3",
   "version": "3.7.12"
  }
 },
 "nbformat": 4,
 "nbformat_minor": 5
}
