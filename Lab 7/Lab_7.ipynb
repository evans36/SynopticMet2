{
 "cells": [
  {
   "cell_type": "markdown",
   "id": "3819e82d-9e60-472e-9b8e-286246bc8bd1",
   "metadata": {},
   "source": [
    "## Lab 7: Isentropic Analysis\n",
    "In this week's lab, we will use archived GFS model data to create our first isentropic analyses with MetPy's help.  We will also create QG forcing maps for comparison.\n",
    "\n",
    "<br />\n",
    "\n",
    "\n",
    "### Useful Documentation\n",
    "1. Xarray open_dataset:  https://docs.xarray.dev/en/stable/generated/xarray.open_dataset.html\n",
    "2. Matplotlib Contour: https://matplotlib.org/stable/api/_as_gen/matplotlib.pyplot.contour.html\n",
    "3. Matplotlib Quiver: https://matplotlib.org/stable/api/_as_gen/matplotlib.pyplot.quiver.html\n",
    "4. Cartopy Feature: https://scitools.org.uk/cartopy/docs/latest/matplotlib/feature_interface.html\n",
    "5. MetPy Units: https://unidata.github.io/MetPy/latest/tutorials/unit_tutorial.html\n",
    "6. Datetime: https://docs.python.org/3/library/datetime.html\n",
    "7. Scipy Gaussian Filter: https://docs.scipy.org/doc/scipy/reference/generated/scipy.ndimage.gaussian_filter.html\n",
    "8. MetPy Q-Vector: https://unidata.github.io/MetPy/latest/api/generated/metpy.calc.q_vector.html\n",
    "9. MetPy mixing_ratio_from_specific_humidity: https://unidata.github.io/MetPy/latest/api/generated/metpy.calc.mixing_ratio_from_specific_humidity.html\n",
    "10. MetPy isentropic_interpolation_as_dataset: https://unidata.github.io/MetPy/latest/api/generated/metpy.calc.isentropic_interpolation_as_dataset.html#metpy.calc.isentropic_interpolation_as_dataset\n",
    "\n"
   ]
  },
  {
   "cell_type": "markdown",
   "id": "fce63b22-960b-445f-a30c-bc1daf5c4afd",
   "metadata": {},
   "source": [
    "<br />\n",
    "\n",
    "## Tutorial\n",
    "\n",
    "In this week's lab, the vertical coordinate system changes from pressure (isobaric) to potential temperature (isentropic).  The GFS archived data are stored with pressure or sigma (a terrain-following coordinate that we are not using) as the vertical coordinate, however.  Thus, to make this week's maps, we need to use MetPy's isentropic interpolation function to convert the GFS data to the isentropic vertical coordinate.\n",
    "\n",
    "<br />\n",
    "\n",
    "1. First, we open a sample dataset, here representing a GFS analysis from February 9th, 2023."
   ]
  },
  {
   "cell_type": "code",
   "execution_count": null,
   "id": "9bcc9a18-efa9-46fa-875a-4288c1b2f1ee",
   "metadata": {},
   "outputs": [],
   "source": [
    "from datetime import datetime\n",
    "import xarray as xr\n",
    "\n",
    "time = datetime(2023,2,9,0)\n",
    "data_location = \"/data/AtmSci360/Synp2/Lab_7/\"\n",
    "file_name = f\"{time:%m%d%y_%H}_gfs.grib2\"\n",
    "\n",
    "data = xr.open_dataset(f\"{data_location}{file_name}\", engine='cfgrib', filter_by_keys={'typeOfLevel': 'isobaricInhPa'})\n",
    "data"
   ]
  },
  {
   "cell_type": "markdown",
   "id": "20dc93d3-292c-43a1-9f75-1b815f950100",
   "metadata": {},
   "source": [
    "<br />\n",
    "\n",
    "2. Next, we define the desired levels for the isentropic analysis or analyses.  In the example below, we consider only the 300-K isentropic level.  The MetPy function can do multiple levels at once, however; to add a level, simply add its value to the list below.  Note that MetPy requires this list of levels to have units."
   ]
  },
  {
   "cell_type": "code",
   "execution_count": null,
   "id": "01b54f2c-95f1-48fe-b8f4-c4ea645b21c8",
   "metadata": {},
   "outputs": [],
   "source": [
    "from metpy.units import units\n",
    "levels = [300] * units.kelvin\n",
    "levels"
   ]
  },
  {
   "cell_type": "markdown",
   "id": "85873b2e-222c-4f96-a873-5c5759b8fdfb",
   "metadata": {},
   "source": [
    "<br />\n",
    "\n",
    "3. Now we are ready to use MetPy's isentropic_interpolation_as_dataset.  This function requires multiple arguments:\n",
    "<ul>\n",
    "    <li>The isentropic level or levels to which the data should be interpolated.</li>\n",
    "    <li>The model data's temperature variable.</li>\n",
    "    <li>The model data's variable or variables to which you want to interpolate to the isentropic surface.</li>\n",
    "</ul>\n",
    "\n",
    "In this example, four variables would be interpolated to the isentropic surface: u, v, r (relative humidity), and q (specific humidity).  The function returns an xarray dataset that is similar to the original, except with a vertical coordinate of isentropic_level rather than isobaricInhPa.  From here, you can work with the data as before."
   ]
  },
  {
   "cell_type": "code",
   "execution_count": null,
   "id": "7daf3850-f637-4e62-b462-312985bba4a9",
   "metadata": {},
   "outputs": [],
   "source": [
    "import metpy.calc as calc\n",
    "calc.isentropic_interpolation_as_dataset(levels, data.t, data.u, data.v, data.r, data.q)"
   ]
  },
  {
   "cell_type": "markdown",
   "id": "35ebe97c-8972-440c-817a-923262c269fa",
   "metadata": {},
   "source": [
    "<br />\n",
    "\n",
    "### Instructions\n",
    "So that you can complete this week's lab, I have locally archived the January 3rd, 2023 0000 UTC GFS analysis.  The location of these data is provided for you below, as is the filename convention if you wish to use a datetime object to select your time of interest.\n",
    "\n",
    "Create the following maps for January 3rd, 2023 at 0000 UTC:\n",
    "\n",
    "<ul>\n",
    "  <li>300 K pressure, mixing ratio, and wind barbs\n",
    "  <li>925 hPa geopotential height, temperature, and wind barbs\n",
    "  <li>850 hPa geopotential height, temperature, and wind barbs\n",
    "  <li>700 hPa geopotential height, temperature, and wind barbs\n",
    "  <li>700 hPa Q-Vectors and Q-Vector Divergence\n",
    "</ul>\n",
    "\n",
    "For the 300 K mixing ratio, first compute the specific humidity on the isentropic surface and then use the MetPy mixing_ratio_from_specific_humidity function to calculate mixing ratio.  Be sure to convert mixing ratio from kg/kg to g/kg.  Finally, be sure your maps follow the \"good map\" guidelines, and do not forget to import the necessary packages before you start coding.  "
   ]
  },
  {
   "cell_type": "code",
   "execution_count": null,
   "id": "83965865-4685-4cf5-8555-3debefe13945",
   "metadata": {},
   "outputs": [],
   "source": [
    "# variable to specify datetime\n",
    "time = \n",
    "\n",
    "# location of the data\n",
    "data_location = \"/data/AtmSci360/Synp2/Lab_7/\"\n",
    "\n",
    "# naming convention for the GFS data files (if you want to use datetime)\n",
    "file_name = f\"{time:%m%d%y_%H}_gfs.grib2\""
   ]
  }
 ],
 "metadata": {
  "kernelspec": {
   "display_name": "Python 3 (ipykernel)",
   "language": "python",
   "name": "python3"
  },
  "language_info": {
   "codemirror_mode": {
    "name": "ipython",
    "version": 3
   },
   "file_extension": ".py",
   "mimetype": "text/x-python",
   "name": "python",
   "nbconvert_exporter": "python",
   "pygments_lexer": "ipython3",
   "version": "3.7.12"
  }
 },
 "nbformat": 4,
 "nbformat_minor": 5
}
