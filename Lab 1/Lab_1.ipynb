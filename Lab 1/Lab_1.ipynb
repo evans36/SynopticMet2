{
 "cells": [
  {
   "cell_type": "markdown",
   "id": "3819e82d-9e60-472e-9b8e-286246bc8bd1",
   "metadata": {},
   "source": [
    "## Lab 1: Frontogenesis and Frontolysis\n",
    "In this week's lab, we will be creating upper-air analyses to support our arguments for whether frontogenesis or frontolysis or occurring in a location during the current week.  \n",
    "<br />\n",
    "### Note on this Semester\n",
    "I will be more hands-off this semester with the Jupyter Notebooks in order to help you build confidence in your ability to create plots in Python.  I will continue to provide links to documentation for functions that will be useful for the lab, but I will not be giving step-by-step instructions on how to generate the maps.  In many cases, the data-processing and map creation codes you wrote last semester can be used for similar tasks this semester, and I encourage you to consult those labs as needed and to use these coding practices in the codes you generate this semester.  I will be available for questions if you have any issues writing your code, and I will occasionally give a short tutorial on a new function at the start of a lab's Notebook.\n",
    "<br />\n",
    "### Useful Documentation\n",
    "1. Xarray open_dataset:  https://docs.xarray.dev/en/stable/generated/xarray.open_dataset.html\n",
    "2. Matplotlib Contour: https://matplotlib.org/stable/api/_as_gen/matplotlib.pyplot.contour.html\n",
    "3. Cartopy Feature: https://scitools.org.uk/cartopy/docs/latest/matplotlib/feature_interface.html\n",
    "4. MetPy Units: https://unidata.github.io/MetPy/latest/tutorials/unit_tutorial.html\n",
    "5. Datetime: https://docs.python.org/3/library/datetime.html\n",
    "6. MetPy Frontogenesis: https://unidata.github.io/MetPy/latest/api/generated/metpy.calc.frontogenesis.html\n",
    "7. MetPy Potential Temperature: https://unidata.github.io/MetPy/latest/api/generated/metpy.calc.potential_temperature.html#metpy.calc.potential_temperature\n",
    "8. MetPy Lat Lon Grid Deltas: https://unidata.github.io/MetPy/latest/api/generated/metpy.calc.lat_lon_grid_deltas.html#metpy.calc.lat_lon_grid_deltas\n",
    "\n",
    "### Tutorial\n",
    "This week's, we wish to calculate frontogenesis using equation 19 from the lecture notes.  Luckily for us, however, MetPy has a function that can do this for us.  To start this week's lab, I'll give a short tutorial on how to use this frontogenesis function.\n",
    "\n",
    "<br />\n",
    "\n",
    "1. Below, you are given some sample data.  To calculate frontogenesis, we need potential temperature, the u- and v-wind components, and the distance between our grid points.  However, many model datasets (such as the GFS data we will use in this lab) only include temperature, wind components, pressure, latitude, and longitude, meaning that we need to use these variables to compute the ones we need.  Thus, for illustrative purposes, our sample data mimics what we would have from a GFS file."
   ]
  },
  {
   "cell_type": "code",
   "execution_count": 8,
   "id": "706fa8e8-b190-4859-9042-19f1103593de",
   "metadata": {},
   "outputs": [],
   "source": [
    "import numpy as np\n",
    "from metpy.units import units\n",
    "\n",
    "temperature = np.array([[273, 273, 273],\n",
    "                        [274, 274, 274],\n",
    "                        [275, 275, 275]]) * units.kelvin\n",
    "\n",
    "pressure = np.array([[100000, 100000, 100000],\n",
    "                     [99990, 99990, 99990],\n",
    "                     [99980, 99980, 99980]]) * units.pascal\n",
    "\n",
    "u_wind = np.array([[0, 0, 0],\n",
    "                   [0, 0, 0],\n",
    "                   [0, 0, 0]]) * units.mps\n",
    "\n",
    "v_wind = np.array([[-1, -1, -1],\n",
    "                   [-2, -2, -2],\n",
    "                   [-3, -3, -3]]) * units.mps\n",
    "\n",
    "latitude = np.array([[41, 41, 41],\n",
    "                     [40, 40, 40],\n",
    "                     [39, 39, 39]])\n",
    "\n",
    "\n",
    "longitude = np.array([[-100, -99, -98],\n",
    "                      [-100, -99, -98],\n",
    "                      [-100, -99, -98]])"
   ]
  },
  {
   "cell_type": "markdown",
   "id": "d03e8475-cfde-44fe-98d1-77d73156da06",
   "metadata": {},
   "source": [
    "<br /><br />\n",
    "\n",
    "2. Since our frontogenesis equation requires potential temperature, we first need to use MetPy's potential temperature function to calculate potential temperature. Note how the input pressure variable has units associated with it - which units these are (e.g., Pa vs. hPa or mb) does not matter so long as the data contain the unit.\n",
    "\n",
    "<br />\n",
    "\n",
    "&nbsp;&nbsp;&nbsp;&nbsp;&nbsp;&nbsp;&nbsp;MetPy calc.potential_temperature Documentation: https://unidata.github.io/MetPy/latest/api/generated/metpy.calc.potential_temperature.html#metpy.calc.potential_temperature\n"
   ]
  },
  {
   "cell_type": "code",
   "execution_count": null,
   "id": "213e7b78-36f4-4538-957a-0791fe4f71ac",
   "metadata": {},
   "outputs": [],
   "source": [
    "import metpy.calc as calc\n",
    "\n",
    "potential_temperature = calc.potential_temperature(pressure, temperature)\n",
    "potential_temperature"
   ]
  },
  {
   "cell_type": "markdown",
   "id": "2add18fd-c3d1-4f63-bbd4-a05ba2c23cc0",
   "metadata": {},
   "source": [
    "<br /><br />\n",
    "\n",
    "3. Next, we need to find the distance (in meters) between our grid points.  MetPy has a function for that as well, which takes the latitude and longitude information as input.\n",
    "\n",
    "<br />\n",
    "\n",
    "&nbsp;&nbsp;&nbsp;&nbsp;&nbsp;&nbsp;&nbsp;MetPy calc.lat_lon_grid_deltas Documentation: https://unidata.github.io/MetPy/latest/api/generated/metpy.calc.lat_lon_grid_deltas.html#metpy.calc.lat_lon_grid_deltas"
   ]
  },
  {
   "cell_type": "code",
   "execution_count": null,
   "id": "4f10ba98-6e4b-4db1-8a62-1610bbbf7b9e",
   "metadata": {},
   "outputs": [],
   "source": [
    "dx, dy = calc.lat_lon_grid_deltas(longitude, latitude)\n",
    "dx"
   ]
  },
  {
   "cell_type": "markdown",
   "id": "7c9c8941-bf0f-422d-9fe6-ed4ddb01d12f",
   "metadata": {},
   "source": [
    "<br /><br />\n",
    "\n",
    "4. Now that we have all of the prerequisite data, we are ready to calculate frontogenesis using MetPy.\n",
    "\n",
    "<br />\n",
    "\n",
    "&nbsp;&nbsp;&nbsp;&nbsp;&nbsp;&nbsp;&nbsp;MetPy calc.frontogenesis Documentation: https://unidata.github.io/MetPy/latest/api/generated/metpy.calc.frontogenesis.html"
   ]
  },
  {
   "cell_type": "code",
   "execution_count": null,
   "id": "554a9597-9270-41c9-93d8-1088a465e3f9",
   "metadata": {},
   "outputs": [],
   "source": [
    "frontogenesis = calc.frontogenesis(potential_temperature, u_wind, v_wind, dx=dx, dy=dy)\n",
    "frontogenesis"
   ]
  },
  {
   "cell_type": "markdown",
   "id": "35ebe97c-8972-440c-817a-923262c269fa",
   "metadata": {},
   "source": [
    "<br /><br />\n",
    "\n",
    "### Instructions\n",
    "So you can complete this week's lab, I've downloaded the 1200 UTC 8 February 2023 GFS forecast ranging from 1200 UTC 8 February 2023 (the 0-h analysis) to 1200 UTC 15 February 2023 (168-h forecast) at 6-h intervals.  The location of these data is provided for you below, as is the filenaming convention if you wish to use a datetime object to select your time of interest.\n",
    "\n",
    "Using the downloaded GFS data, find an area of frontogenesis or frontolysis that is analyzed or is predicted by the model to occur.  Generate charts of color filled frontogenesis, isotherms, and wind barbs at 925 hPa, 850 hPa, and/or 700 hPa at two or more consecutive 6-h times to help support your reasoning.  Be sure your maps follow the \"good map\" guidelines, and don't forget to import the necessary packages before you start coding."
   ]
  },
  {
   "cell_type": "code",
   "execution_count": null,
   "id": "83965865-4685-4cf5-8555-3debefe13945",
   "metadata": {},
   "outputs": [],
   "source": [
    "#variable to specify datetime\n",
    "time = \n",
    "\n",
    "#location of the data\n",
    "data_location = \"/data/AtmSci360/Synp2/Lab_1/\"\n",
    "\n",
    "#nameing convention of data files if you use datetime.\n",
    "file_name = f\"{time:%m%d%y_%H}_gfs.grib2\""
   ]
  }
 ],
 "metadata": {
  "kernelspec": {
   "display_name": "Python 3 (ipykernel)",
   "language": "python",
   "name": "python3"
  },
  "language_info": {
   "codemirror_mode": {
    "name": "ipython",
    "version": 3
   },
   "file_extension": ".py",
   "mimetype": "text/x-python",
   "name": "python",
   "nbconvert_exporter": "python",
   "pygments_lexer": "ipython3",
   "version": "3.7.12"
  }
 },
 "nbformat": 4,
 "nbformat_minor": 5
}
