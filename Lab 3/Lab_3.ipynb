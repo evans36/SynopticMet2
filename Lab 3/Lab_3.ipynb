{
 "cells": [
  {
   "cell_type": "markdown",
   "id": "3819e82d-9e60-472e-9b8e-286246bc8bd1",
   "metadata": {},
   "source": [
    "## Lab 3: Quasi-Geostrophic Height Tendency Equation\n",
    "In this week's lab, we will use archived GFS model data to create 250 hPa, 500 hPa, and 850 hPa analyses, from which we will use the quasi-geostrohpic height tendency equation to investigate how two different troughs evolved. \n",
    "<br />\n",
    "\n",
    "<br />\n",
    "\n",
    "### Useful Documentation\n",
    "1. Xarray open_dataset:  https://docs.xarray.dev/en/stable/generated/xarray.open_dataset.html\n",
    "2. Matplotlib contour: https://matplotlib.org/stable/api/_as_gen/matplotlib.pyplot.contour.html\n",
    "3. Cartopy feature: https://scitools.org.uk/cartopy/docs/latest/matplotlib/feature_interface.html\n",
    "4. Datetime: https://docs.python.org/3/library/datetime.html\n",
    "\n"
   ]
  },
  {
   "cell_type": "markdown",
   "id": "35ebe97c-8972-440c-817a-923262c269fa",
   "metadata": {},
   "source": [
    "<br />\n",
    "\n",
    "### Instructions\n",
    "So that you can complete this week's lab, I have locally archived the January 17th, 2015 1800 UTC and January 18th, 0000 UTC GFS analyses.  The location of these data is provided for you below, as is the filenaming convention if you wish to use a datetime object to select your time of interest.\n",
    "\n",
    "Create the following maps for both GFS analyses:\n",
    "\n",
    "<ul>\n",
    "  <li>250 hPa wind magnitude, wind barbs, and geopotential height\n",
    "  <li>500 hPa absolute vorticity, wind barbs, and geopotential height\n",
    "  <li>850 hPa air temperature, wind barbs, and geopotential height\n",
    "</ul>\n",
    "\n",
    "Be sure your maps follow the \"good map\" guidelines, and do not forget to import the necessary packages before you start coding."
   ]
  },
  {
   "cell_type": "code",
   "execution_count": null,
   "id": "83965865-4685-4cf5-8555-3debefe13945",
   "metadata": {},
   "outputs": [],
   "source": [
    "# variable to specify datetime\n",
    "time = \n",
    "\n",
    "# location of the data\n",
    "data_location = \"/data/AtmSci360/Synp2/Lab_3/\"\n",
    "\n",
    "# naming convention for the GFS data files (if you want to use datetime)\n",
    "file_name = f\"gfs.0p25.{time:%Y%m%d%H}.f000.grib2\""
   ]
  }
 ],
 "metadata": {
  "kernelspec": {
   "display_name": "Python 3 (ipykernel)",
   "language": "python",
   "name": "python3"
  },
  "language_info": {
   "codemirror_mode": {
    "name": "ipython",
    "version": 3
   },
   "file_extension": ".py",
   "mimetype": "text/x-python",
   "name": "python",
   "nbconvert_exporter": "python",
   "pygments_lexer": "ipython3",
   "version": "3.7.12"
  }
 },
 "nbformat": 4,
 "nbformat_minor": 5
}
