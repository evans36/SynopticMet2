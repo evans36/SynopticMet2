{
 "cells": [
  {
   "cell_type": "markdown",
   "id": "0c510a4e-0d63-4260-938e-511fdc759f2b",
   "metadata": {},
   "source": [
    "## Lab 10: Diabatically Driven IPV Changes\n",
    "In our final lab of the semester, we will generate IPV maps to diagnose the tropical transition of an initially extratropical (or non-tropical midlatitude) cyclone.\n",
    "\n",
    "<br />\n",
    "\n",
    "\n",
    "### Useful Documentation\n",
    "1. Xarray open_dataset:  https://docs.xarray.dev/en/stable/generated/xarray.open_dataset.html\n",
    "2. Matplotlib Contour: https://matplotlib.org/stable/api/_as_gen/matplotlib.pyplot.contour.html\n",
    "3. Cartopy Feature: https://scitools.org.uk/cartopy/docs/latest/matplotlib/feature_interface.html\n",
    "4. MetPy Units: https://unidata.github.io/MetPy/latest/tutorials/unit_tutorial.html\n",
    "5. Datetime: https://docs.python.org/3/library/datetime.html\n",
    "6. Scipy gaussian_filter: https://docs.scipy.org/doc/scipy/reference/generated/scipy.ndimage.gaussian_filter.html\n",
    "7. MetPy isentropic_interpolation_as_dataset: https://unidata.github.io/MetPy/latest/api/generated/metpy.calc.isentropic_interpolation_as_dataset.html#metpy.calc.isentropic_interpolation_as_dataset\n",
    "8. MetPy potential_temperature: https://unidata.github.io/MetPy/latest/api/generated/metpy.calc.potential_temperature.html\n",
    "9. MetPy potential_vorticity_baroclinic: https://unidata.github.io/MetPy/latest/api/generated/metpy.calc.potential_vorticity_baroclinic.html"
   ]
  },
  {
   "cell_type": "markdown",
   "id": "2600d2ed-4650-4363-9e66-88f7a027a60f",
   "metadata": {},
   "source": [
    "<br />\n",
    "\n",
    "## Tutorial\n",
    "\n",
    "In this week's lab, we will use ERA5 reanalysis data rather than GFS data to examine a case from 2012.  Reanalysis data such as ERA5 are generated retrospectively using a numerical model (in this case, the ECMWF model), archived observations, and data assimilation.  In contrast to a model analysis, a reanalysis typically incorporates more observations and a newer (hopefully improved!) model version.\n",
    "\n",
    "Although ERA5 is a gridded dataset, its gridding structure differs from that of GFS data, with a different file type (for the provided data; ERA5 data are also available in GRIB format, like with the GFS) and different variable names.  The former is not a major issue, however, since xarray opens netCDF files similarly to GRIB files so long as we change the decoding engine used by xarray to open the file.  \n",
    "\n",
    "<br />\n",
    "\n",
    "As a aside, you can use the link below to download ERA5 data for any available case. For this lab, however, I have already downloaded the data for you.\n",
    "\n",
    "<br />\n",
    "\n",
    "https://cds.climate.copernicus.eu/cdsapp#!/dataset/reanalysis-era5-pressure-levels?tab=form\n",
    "\n",
    "<br />\n",
    "\n",
    "In the cell below, I demonstrate how to open ERA5 data for June 18th, 2012 at 1200 UTC."
   ]
  },
  {
   "cell_type": "code",
   "execution_count": null,
   "id": "7b5f45a4-c645-4a3b-a9aa-efe4c2ccea65",
   "metadata": {},
   "outputs": [],
   "source": [
    "from datetime import datetime\n",
    "import xarray as xr\n",
    "\n",
    "time = datetime(2012,6,18,12)\n",
    "data_location = \"/data/AtmSci360/Synp2/Lab_10/\"\n",
    "file_name = f\"{time:%m%d%Y_%H%M}_ERA5.nc\"\n",
    "\n",
    "# note the different engine passed to xarray\n",
    "data = xr.open_dataset(f\"{data_location}{file_name}\", engine='netcdf4')\n",
    "data"
   ]
  },
  {
   "cell_type": "markdown",
   "id": "d96c752c-7383-43f7-a156-6412b6a99643",
   "metadata": {},
   "source": [
    "### Instructions\n",
    "So that you can complete this week's lab, I have locally archived the June 17th, 2012 1200 UTC and June 18th, 2012 0000 UTC ERA5 analyses.  The location of these datasets are provided for you below, as is the filename convention if you wish to use a datetime object to select your time of interest.\n",
    "\n",
    "<br />\n",
    "\n",
    "Using these data, create 330-K potential vorticity (PVU) and horizontal wind (kt) maps for 1200 UTC June 17th, 2012 and 0000 UTC June 18th, 2012.  You may find it helpful to refer to Lab 8's code when preparing these maps.  Be sure your maps follow the \"good map\" guidelines, and do not forget to import the necessary packages before you start coding.  "
   ]
  },
  {
   "cell_type": "code",
   "execution_count": null,
   "id": "901271fb-a057-4817-ab07-9e0bfc81aa1c",
   "metadata": {},
   "outputs": [],
   "source": [
    "data_location = \"/data/AtmSci360/Synp2/Lab_10/\"\n",
    "file_name = f\"{time:%m%d%Y_%H%M}_ERA5.nc\""
   ]
  }
 ],
 "metadata": {
  "kernelspec": {
   "display_name": "Python 3 (ipykernel)",
   "language": "python",
   "name": "python3"
  },
  "language_info": {
   "codemirror_mode": {
    "name": "ipython",
    "version": 3
   },
   "file_extension": ".py",
   "mimetype": "text/x-python",
   "name": "python",
   "nbconvert_exporter": "python",
   "pygments_lexer": "ipython3",
   "version": "3.7.12"
  }
 },
 "nbformat": 4,
 "nbformat_minor": 5
}
